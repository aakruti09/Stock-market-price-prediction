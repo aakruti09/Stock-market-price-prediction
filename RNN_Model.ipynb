{
 "cells": [
  {
   "cell_type": "markdown",
   "metadata": {
    "id": "ZmQouY5Vem8K"
   },
   "source": [
    "# Stock Market Price Prediction \n",
    "### Using Recurrent Neural Network for Regression\n"
   ]
  },
  {
   "cell_type": "code",
   "execution_count": 2,
   "metadata": {
    "id": "42Ptdq6ctWsg"
   },
   "outputs": [],
   "source": [
    "#Importing all the required libraries\n",
    "import numpy as np\n",
    "import pandas as pd\n",
    "from tensorflow.keras.models import Sequential\n",
    "from keras.layers import Dense\n",
    "from keras.layers import LSTM\n",
    "from keras.layers import Dropout\n",
    "from sklearn.model_selection import train_test_split\n",
    "from sklearn.preprocessing import MinMaxScaler\n",
    "from keras.models import load_model\n",
    "from sklearn.metrics import mean_squared_error\n",
    "from tensorflow.keras import metrics\n",
    "import matplotlib.pyplot as plt"
   ]
  },
  {
   "cell_type": "code",
   "execution_count": 3,
   "metadata": {
    "id": "mMuoLvbEtoCm"
   },
   "outputs": [],
   "source": [
    "# reading the dataset using pandas\n",
    "dataset = pd.read_csv('data/q2_dataset.csv')"
   ]
  },
  {
   "cell_type": "code",
   "execution_count": 4,
   "metadata": {
    "colab": {
     "base_uri": "https://localhost:8080/",
     "height": 204
    },
    "id": "9mixbXKytxTq",
    "outputId": "a950dee7-2089-4ce0-ef90-a12d39f65186"
   },
   "outputs": [
    {
     "data": {
      "text/html": [
       "<div>\n",
       "<style scoped>\n",
       "    .dataframe tbody tr th:only-of-type {\n",
       "        vertical-align: middle;\n",
       "    }\n",
       "\n",
       "    .dataframe tbody tr th {\n",
       "        vertical-align: top;\n",
       "    }\n",
       "\n",
       "    .dataframe thead th {\n",
       "        text-align: right;\n",
       "    }\n",
       "</style>\n",
       "<table border=\"1\" class=\"dataframe\">\n",
       "  <thead>\n",
       "    <tr style=\"text-align: right;\">\n",
       "      <th></th>\n",
       "      <th>Date</th>\n",
       "      <th>Close/Last</th>\n",
       "      <th>Volume</th>\n",
       "      <th>Open</th>\n",
       "      <th>High</th>\n",
       "      <th>Low</th>\n",
       "    </tr>\n",
       "  </thead>\n",
       "  <tbody>\n",
       "    <tr>\n",
       "      <th>0</th>\n",
       "      <td>07/08/20</td>\n",
       "      <td>$381.37</td>\n",
       "      <td>29272970</td>\n",
       "      <td>376.72</td>\n",
       "      <td>381.50</td>\n",
       "      <td>376.36</td>\n",
       "    </tr>\n",
       "    <tr>\n",
       "      <th>1</th>\n",
       "      <td>07/07/20</td>\n",
       "      <td>$372.69</td>\n",
       "      <td>28106110</td>\n",
       "      <td>375.41</td>\n",
       "      <td>378.62</td>\n",
       "      <td>372.23</td>\n",
       "    </tr>\n",
       "    <tr>\n",
       "      <th>2</th>\n",
       "      <td>07/06/20</td>\n",
       "      <td>$373.85</td>\n",
       "      <td>29663910</td>\n",
       "      <td>370.00</td>\n",
       "      <td>375.78</td>\n",
       "      <td>369.87</td>\n",
       "    </tr>\n",
       "    <tr>\n",
       "      <th>3</th>\n",
       "      <td>07/02/20</td>\n",
       "      <td>$364.11</td>\n",
       "      <td>28510370</td>\n",
       "      <td>367.85</td>\n",
       "      <td>370.47</td>\n",
       "      <td>363.64</td>\n",
       "    </tr>\n",
       "    <tr>\n",
       "      <th>4</th>\n",
       "      <td>07/01/20</td>\n",
       "      <td>$364.11</td>\n",
       "      <td>27684310</td>\n",
       "      <td>365.12</td>\n",
       "      <td>367.36</td>\n",
       "      <td>363.91</td>\n",
       "    </tr>\n",
       "  </tbody>\n",
       "</table>\n",
       "</div>"
      ],
      "text/plain": [
       "       Date  Close/Last    Volume    Open    High     Low\n",
       "0  07/08/20     $381.37  29272970  376.72  381.50  376.36\n",
       "1  07/07/20     $372.69  28106110  375.41  378.62  372.23\n",
       "2  07/06/20     $373.85  29663910  370.00  375.78  369.87\n",
       "3  07/02/20     $364.11  28510370  367.85  370.47  363.64\n",
       "4  07/01/20     $364.11  27684310  365.12  367.36  363.91"
      ]
     },
     "execution_count": 4,
     "metadata": {},
     "output_type": "execute_result"
    }
   ],
   "source": [
    "# Checking the content of the given dataset\n",
    "dataset.head(5)"
   ]
  },
  {
   "cell_type": "code",
   "execution_count": 5,
   "metadata": {
    "colab": {
     "base_uri": "https://localhost:8080/",
     "height": 221
    },
    "id": "vjv7xKZpt9H4",
    "outputId": "313c6319-6960-4c54-fbc6-ca71698ec44a"
   },
   "outputs": [
    {
     "name": "stdout",
     "output_type": "stream",
     "text": [
      "1259\n"
     ]
    },
    {
     "data": {
      "text/html": [
       "<div>\n",
       "<style scoped>\n",
       "    .dataframe tbody tr th:only-of-type {\n",
       "        vertical-align: middle;\n",
       "    }\n",
       "\n",
       "    .dataframe tbody tr th {\n",
       "        vertical-align: top;\n",
       "    }\n",
       "\n",
       "    .dataframe thead th {\n",
       "        text-align: right;\n",
       "    }\n",
       "</style>\n",
       "<table border=\"1\" class=\"dataframe\">\n",
       "  <thead>\n",
       "    <tr style=\"text-align: right;\">\n",
       "      <th></th>\n",
       "      <th>Date</th>\n",
       "      <th>Close/Last</th>\n",
       "      <th>Volume</th>\n",
       "      <th>Open</th>\n",
       "      <th>High</th>\n",
       "      <th>Low</th>\n",
       "    </tr>\n",
       "  </thead>\n",
       "  <tbody>\n",
       "    <tr>\n",
       "      <th>1254</th>\n",
       "      <td>07/15/2015</td>\n",
       "      <td>$126.82</td>\n",
       "      <td>33559770</td>\n",
       "      <td>125.72</td>\n",
       "      <td>127.15</td>\n",
       "      <td>125.58</td>\n",
       "    </tr>\n",
       "    <tr>\n",
       "      <th>1255</th>\n",
       "      <td>07/14/2015</td>\n",
       "      <td>$125.61</td>\n",
       "      <td>31695870</td>\n",
       "      <td>126.04</td>\n",
       "      <td>126.37</td>\n",
       "      <td>125.04</td>\n",
       "    </tr>\n",
       "    <tr>\n",
       "      <th>1256</th>\n",
       "      <td>07/13/2015</td>\n",
       "      <td>$125.66</td>\n",
       "      <td>41365600</td>\n",
       "      <td>125.03</td>\n",
       "      <td>125.76</td>\n",
       "      <td>124.32</td>\n",
       "    </tr>\n",
       "    <tr>\n",
       "      <th>1257</th>\n",
       "      <td>07/10/15</td>\n",
       "      <td>$123.28</td>\n",
       "      <td>61292800</td>\n",
       "      <td>121.94</td>\n",
       "      <td>123.85</td>\n",
       "      <td>121.21</td>\n",
       "    </tr>\n",
       "    <tr>\n",
       "      <th>1258</th>\n",
       "      <td>07/09/15</td>\n",
       "      <td>$120.07</td>\n",
       "      <td>78291510</td>\n",
       "      <td>123.85</td>\n",
       "      <td>124.06</td>\n",
       "      <td>119.22</td>\n",
       "    </tr>\n",
       "  </tbody>\n",
       "</table>\n",
       "</div>"
      ],
      "text/plain": [
       "            Date  Close/Last    Volume    Open    High     Low\n",
       "1254  07/15/2015     $126.82  33559770  125.72  127.15  125.58\n",
       "1255  07/14/2015     $125.61  31695870  126.04  126.37  125.04\n",
       "1256  07/13/2015     $125.66  41365600  125.03  125.76  124.32\n",
       "1257    07/10/15     $123.28  61292800  121.94  123.85  121.21\n",
       "1258    07/09/15     $120.07  78291510  123.85  124.06  119.22"
      ]
     },
     "execution_count": 5,
     "metadata": {},
     "output_type": "execute_result"
    }
   ],
   "source": [
    " # we can see there are 6 columns/features and length of the data is given by\n",
    " print(len(dataset))\n",
    " dataset.tail(5)"
   ]
  },
  {
   "cell_type": "markdown",
   "metadata": {
    "id": "Azl9rtBgtAE1"
   },
   "source": [
    "The stock price dataset is for 5 years i.e from 07/09/15 to 07/08/20\t"
   ]
  },
  {
   "cell_type": "code",
   "execution_count": 6,
   "metadata": {
    "colab": {
     "base_uri": "https://localhost:8080/"
    },
    "id": "dyS_hrCxuJ6Q",
    "outputId": "7b43a2e5-c604-4eb0-ef1a-0dfa32558958"
   },
   "outputs": [
    {
     "data": {
      "text/plain": [
       "Index(['Date', ' Close/Last', ' Volume', ' Open', ' High', ' Low'], dtype='object')"
      ]
     },
     "execution_count": 6,
     "metadata": {},
     "output_type": "execute_result"
    }
   ],
   "source": [
    "# Print the name of the colummns\n",
    "dataset.columns"
   ]
  },
  {
   "cell_type": "code",
   "execution_count": 7,
   "metadata": {
    "id": "PgK8I3-evT1Z"
   },
   "outputs": [],
   "source": [
    "# Selecting the required columns/features for the model\n",
    "dataset_train=dataset.drop(['Date', ' Close/Last'], axis = 1)"
   ]
  },
  {
   "cell_type": "code",
   "execution_count": 8,
   "metadata": {
    "colab": {
     "base_uri": "https://localhost:8080/",
     "height": 204
    },
    "id": "0hdJXlaCvZAN",
    "outputId": "093dbd5a-9807-4eaf-fc78-a623a55525db"
   },
   "outputs": [
    {
     "data": {
      "text/html": [
       "<div>\n",
       "<style scoped>\n",
       "    .dataframe tbody tr th:only-of-type {\n",
       "        vertical-align: middle;\n",
       "    }\n",
       "\n",
       "    .dataframe tbody tr th {\n",
       "        vertical-align: top;\n",
       "    }\n",
       "\n",
       "    .dataframe thead th {\n",
       "        text-align: right;\n",
       "    }\n",
       "</style>\n",
       "<table border=\"1\" class=\"dataframe\">\n",
       "  <thead>\n",
       "    <tr style=\"text-align: right;\">\n",
       "      <th></th>\n",
       "      <th>Volume</th>\n",
       "      <th>Open</th>\n",
       "      <th>High</th>\n",
       "      <th>Low</th>\n",
       "    </tr>\n",
       "  </thead>\n",
       "  <tbody>\n",
       "    <tr>\n",
       "      <th>0</th>\n",
       "      <td>29272970</td>\n",
       "      <td>376.72</td>\n",
       "      <td>381.50</td>\n",
       "      <td>376.36</td>\n",
       "    </tr>\n",
       "    <tr>\n",
       "      <th>1</th>\n",
       "      <td>28106110</td>\n",
       "      <td>375.41</td>\n",
       "      <td>378.62</td>\n",
       "      <td>372.23</td>\n",
       "    </tr>\n",
       "    <tr>\n",
       "      <th>2</th>\n",
       "      <td>29663910</td>\n",
       "      <td>370.00</td>\n",
       "      <td>375.78</td>\n",
       "      <td>369.87</td>\n",
       "    </tr>\n",
       "    <tr>\n",
       "      <th>3</th>\n",
       "      <td>28510370</td>\n",
       "      <td>367.85</td>\n",
       "      <td>370.47</td>\n",
       "      <td>363.64</td>\n",
       "    </tr>\n",
       "    <tr>\n",
       "      <th>4</th>\n",
       "      <td>27684310</td>\n",
       "      <td>365.12</td>\n",
       "      <td>367.36</td>\n",
       "      <td>363.91</td>\n",
       "    </tr>\n",
       "  </tbody>\n",
       "</table>\n",
       "</div>"
      ],
      "text/plain": [
       "     Volume    Open    High     Low\n",
       "0  29272970  376.72  381.50  376.36\n",
       "1  28106110  375.41  378.62  372.23\n",
       "2  29663910  370.00  375.78  369.87\n",
       "3  28510370  367.85  370.47  363.64\n",
       "4  27684310  365.12  367.36  363.91"
      ]
     },
     "execution_count": 8,
     "metadata": {},
     "output_type": "execute_result"
    }
   ],
   "source": [
    "dataset_train.head(5)"
   ]
  },
  {
   "cell_type": "code",
   "execution_count": 9,
   "metadata": {
    "id": "35BCygu6w8v_"
   },
   "outputs": [],
   "source": [
    "# Creating the dataset by using the latest 3 days as the features and the next day’s opening price as the target\n",
    "train = dataset_train.to_numpy()  #  Converting the dataframe to numpy array\n",
    "x_train = []\n",
    "y_train = []\n",
    "# Creating the list with 3 days timestamp\n",
    "for i in range(3, train.shape[0]):\n",
    "    x_train.append(train[i-3:i])\n",
    "    # selecting the next day opening price i.e. 2nd column in the dataset_train\n",
    "    y_train.append(train[i, 1])"
   ]
  },
  {
   "cell_type": "code",
   "execution_count": 10,
   "metadata": {
    "colab": {
     "base_uri": "https://localhost:8080/"
    },
    "id": "CxsEeOsN0i32",
    "outputId": "398fa6ec-e7f1-43d4-8fef-407a362cc66d"
   },
   "outputs": [
    {
     "name": "stdout",
     "output_type": "stream",
     "text": [
      "(1256, 3, 4)\n",
      "(1256,)\n"
     ]
    }
   ],
   "source": [
    "# Checking the shape of the x_train and y_train created using 3 day timestamp\n",
    "x_train, y_train = np.array(x_train), np.array(y_train)\n",
    "print(x_train.shape)\n",
    "print(y_train.shape)"
   ]
  },
  {
   "cell_type": "markdown",
   "metadata": {
    "id": "5Koz_9J_50Ir"
   },
   "source": [
    "Therefore, we have 3x4= 12 features i.e. 3 day timestamp data with each having 4 features(Volume,Open,High and Low)\n",
    "\n",
    "y_train is having the opening price of the stock (target)"
   ]
  },
  {
   "cell_type": "markdown",
   "metadata": {
    "id": "uFGZASA86GRr"
   },
   "source": [
    "## Before any pre-processing, Creating the training and test dataset csv files\n"
   ]
  },
  {
   "cell_type": "code",
   "execution_count": 11,
   "metadata": {
    "id": "qGOhhktQ6R1f"
   },
   "outputs": [],
   "source": [
    "# Randomly spliting the dataset into 70% training and 30% testing\n",
    "\n",
    "X_train, X_test, Y_train, Y_test = train_test_split(x_train, y_train, test_size = 0.30, random_state =30 )\n"
   ]
  },
  {
   "cell_type": "code",
   "execution_count": 12,
   "metadata": {
    "colab": {
     "base_uri": "https://localhost:8080/"
    },
    "id": "8849mMD87-vT",
    "outputId": "3a9c23a4-abd5-4cab-9695-1322643acd3a"
   },
   "outputs": [
    {
     "name": "stdout",
     "output_type": "stream",
     "text": [
      "(879, 3, 4)\n",
      "(879,)\n"
     ]
    }
   ],
   "source": [
    "# Checking the number of data in the training dataset\n",
    "print(X_train.shape)\n",
    "print(Y_train.shape)"
   ]
  },
  {
   "cell_type": "markdown",
   "metadata": {
    "id": "0olWAgac94mQ"
   },
   "source": [
    "We can see that training dataset is having 879 entries i.e 70%. Each data point each with 3*4= 12 features and 879 corressponding target/label opening price"
   ]
  },
  {
   "cell_type": "code",
   "execution_count": 13,
   "metadata": {
    "colab": {
     "base_uri": "https://localhost:8080/"
    },
    "id": "sE8JO_Jz-Kw4",
    "outputId": "0bbc0276-5ead-4972-d17e-1b921d478537"
   },
   "outputs": [
    {
     "name": "stdout",
     "output_type": "stream",
     "text": [
      "(377, 3, 4)\n",
      "(377,)\n"
     ]
    }
   ],
   "source": [
    "# Checking the number of entries in the testdataset\n",
    "print(X_test.shape)\n",
    "print(Y_test.shape)"
   ]
  },
  {
   "cell_type": "markdown",
   "metadata": {
    "id": "VW4TJwL5-gvQ"
   },
   "source": [
    "We can see that testing dataset is having 377 entries i.e 30%. Each data point each with 3*4= 12 features and 377 corressponding target/label opening price"
   ]
  },
  {
   "cell_type": "markdown",
   "metadata": {
    "id": "JsykdOJo-0uw"
   },
   "source": [
    "# Storing the training dataset into train_data_RNN.csv\n"
   ]
  },
  {
   "cell_type": "code",
   "execution_count": 14,
   "metadata": {
    "colab": {
     "base_uri": "https://localhost:8080/"
    },
    "id": "q5A6DG2__FOB",
    "outputId": "3b5b0ecb-6cf3-4a9d-a94a-7f1a7cb50db4"
   },
   "outputs": [
    {
     "name": "stdout",
     "output_type": "stream",
     "text": [
      "879\n"
     ]
    }
   ],
   "source": [
    "# X_train is 3D array. To store it in the csv flattening the array using 3 day timesteps features in the single row\n",
    "flatten_train=[]\n",
    "for i in range (X_train.shape[0]):\n",
    "\t    X=X_train[i].flatten()\n",
    "\t    flatten_train.append(X)\n",
    "print(len(flatten_train))"
   ]
  },
  {
   "cell_type": "code",
   "execution_count": 15,
   "metadata": {
    "id": "QCV8kLJ3_Wq6"
   },
   "outputs": [],
   "source": [
    "# After flattening the list, converting it to dataframe to create the training dataset csv file\n",
    "features_train= pd.DataFrame(data=flatten_train)\n",
    "# y_train is having the target value(Opening price). It is already a 1D array so no need of flattening, converting into dataframe\n",
    "target_train=pd.DataFrame(data=Y_train,columns=[\"Target\"])\n",
    "#Concatening the features with their corresponding target\n",
    "training_dataset= pd.concat([features_train,target_train],axis=1)\n",
    "\n",
    "# Training dataset is having 13 columns,\n",
    "# 12 columns conatins features (open,low,high,volume) of 3 consecutive days \n",
    "# last columns is having target values i.e next day opening price\n",
    "\n",
    "#storing the dataset in the train_data_RNN.csv file\n",
    "\n",
    "training_dataset.to_csv(\"data/train_data_RNN.csv\",index=False)"
   ]
  },
  {
   "cell_type": "code",
   "execution_count": 16,
   "metadata": {
    "colab": {
     "base_uri": "https://localhost:8080/",
     "height": 204
    },
    "id": "uFgC85KA6s55",
    "outputId": "a3f42e2d-ab55-439c-fcf7-e916da915cd1"
   },
   "outputs": [
    {
     "data": {
      "text/html": [
       "<div>\n",
       "<style scoped>\n",
       "    .dataframe tbody tr th:only-of-type {\n",
       "        vertical-align: middle;\n",
       "    }\n",
       "\n",
       "    .dataframe tbody tr th {\n",
       "        vertical-align: top;\n",
       "    }\n",
       "\n",
       "    .dataframe thead th {\n",
       "        text-align: right;\n",
       "    }\n",
       "</style>\n",
       "<table border=\"1\" class=\"dataframe\">\n",
       "  <thead>\n",
       "    <tr style=\"text-align: right;\">\n",
       "      <th></th>\n",
       "      <th>0</th>\n",
       "      <th>1</th>\n",
       "      <th>2</th>\n",
       "      <th>3</th>\n",
       "      <th>4</th>\n",
       "      <th>5</th>\n",
       "      <th>6</th>\n",
       "      <th>7</th>\n",
       "      <th>8</th>\n",
       "      <th>9</th>\n",
       "      <th>10</th>\n",
       "      <th>11</th>\n",
       "      <th>Target</th>\n",
       "    </tr>\n",
       "  </thead>\n",
       "  <tbody>\n",
       "    <tr>\n",
       "      <th>0</th>\n",
       "      <td>20544600.0</td>\n",
       "      <td>177.81</td>\n",
       "      <td>178.82</td>\n",
       "      <td>176.88</td>\n",
       "      <td>26575010.0</td>\n",
       "      <td>176.49</td>\n",
       "      <td>178.94</td>\n",
       "      <td>176.41</td>\n",
       "      <td>21561320.0</td>\n",
       "      <td>175.03</td>\n",
       "      <td>176.19</td>\n",
       "      <td>174.83</td>\n",
       "      <td>174.78</td>\n",
       "    </tr>\n",
       "    <tr>\n",
       "      <th>1</th>\n",
       "      <td>22267820.0</td>\n",
       "      <td>213.19</td>\n",
       "      <td>214.44</td>\n",
       "      <td>210.75</td>\n",
       "      <td>21564750.0</td>\n",
       "      <td>212.99</td>\n",
       "      <td>213.65</td>\n",
       "      <td>211.60</td>\n",
       "      <td>26919530.0</td>\n",
       "      <td>210.88</td>\n",
       "      <td>213.35</td>\n",
       "      <td>210.32</td>\n",
       "      <td>210.62</td>\n",
       "    </tr>\n",
       "    <tr>\n",
       "      <th>2</th>\n",
       "      <td>38018910.0</td>\n",
       "      <td>104.41</td>\n",
       "      <td>106.15</td>\n",
       "      <td>104.41</td>\n",
       "      <td>27697970.0</td>\n",
       "      <td>104.19</td>\n",
       "      <td>104.55</td>\n",
       "      <td>103.68</td>\n",
       "      <td>38771840.0</td>\n",
       "      <td>102.83</td>\n",
       "      <td>104.45</td>\n",
       "      <td>102.82</td>\n",
       "      <td>104.27</td>\n",
       "    </tr>\n",
       "    <tr>\n",
       "      <th>3</th>\n",
       "      <td>21329170.0</td>\n",
       "      <td>194.14</td>\n",
       "      <td>194.20</td>\n",
       "      <td>192.34</td>\n",
       "      <td>20912820.0</td>\n",
       "      <td>193.63</td>\n",
       "      <td>194.08</td>\n",
       "      <td>191.92</td>\n",
       "      <td>21535570.0</td>\n",
       "      <td>193.07</td>\n",
       "      <td>193.94</td>\n",
       "      <td>192.36</td>\n",
       "      <td>191.64</td>\n",
       "    </tr>\n",
       "    <tr>\n",
       "      <th>4</th>\n",
       "      <td>26356390.0</td>\n",
       "      <td>322.57</td>\n",
       "      <td>325.22</td>\n",
       "      <td>320.26</td>\n",
       "      <td>29706720.0</td>\n",
       "      <td>323.52</td>\n",
       "      <td>324.76</td>\n",
       "      <td>318.95</td>\n",
       "      <td>34154130.0</td>\n",
       "      <td>315.31</td>\n",
       "      <td>319.64</td>\n",
       "      <td>313.63</td>\n",
       "      <td>304.30</td>\n",
       "    </tr>\n",
       "  </tbody>\n",
       "</table>\n",
       "</div>"
      ],
      "text/plain": [
       "            0       1       2       3           4       5       6       7  \\\n",
       "0  20544600.0  177.81  178.82  176.88  26575010.0  176.49  178.94  176.41   \n",
       "1  22267820.0  213.19  214.44  210.75  21564750.0  212.99  213.65  211.60   \n",
       "2  38018910.0  104.41  106.15  104.41  27697970.0  104.19  104.55  103.68   \n",
       "3  21329170.0  194.14  194.20  192.34  20912820.0  193.63  194.08  191.92   \n",
       "4  26356390.0  322.57  325.22  320.26  29706720.0  323.52  324.76  318.95   \n",
       "\n",
       "            8       9      10      11  Target  \n",
       "0  21561320.0  175.03  176.19  174.83  174.78  \n",
       "1  26919530.0  210.88  213.35  210.32  210.62  \n",
       "2  38771840.0  102.83  104.45  102.82  104.27  \n",
       "3  21535570.0  193.07  193.94  192.36  191.64  \n",
       "4  34154130.0  315.31  319.64  313.63  304.30  "
      ]
     },
     "execution_count": 16,
     "metadata": {},
     "output_type": "execute_result"
    }
   ],
   "source": [
    "training_pandas = pd.read_csv(\"data/train_data_RNN.csv\")\n",
    "training_pandas.head(5)"
   ]
  },
  {
   "cell_type": "markdown",
   "metadata": {
    "id": "k4FBkjr5D8Mu"
   },
   "source": [
    "## Storing the test dataset into test_data_RNN.csv"
   ]
  },
  {
   "cell_type": "code",
   "execution_count": 17,
   "metadata": {
    "colab": {
     "base_uri": "https://localhost:8080/"
    },
    "id": "hqVPIe1vEEik",
    "outputId": "0bd36bc2-0aae-4f2f-90a4-f457a639a59e"
   },
   "outputs": [
    {
     "name": "stdout",
     "output_type": "stream",
     "text": [
      "377\n"
     ]
    }
   ],
   "source": [
    "# X_test is 3D array. To store it in the csv, flattening the array using 3 day timesteps features in the single row\n",
    "flatten=[]\n",
    "for i in range (X_test.shape[0]):\n",
    "\t    Y=X_test[i].flatten()\n",
    "\t    flatten.append(Y)\n",
    "print(len(flatten))"
   ]
  },
  {
   "cell_type": "code",
   "execution_count": 18,
   "metadata": {
    "id": "bQUjIhcQEpF8"
   },
   "outputs": [],
   "source": [
    "# After flattening the list, converting it to dataframe to create the testing dataset csv file\n",
    "features_test= pd.DataFrame(data=flatten)\n",
    "# y_test is having the target value(Opening price). It is already a 1D array so no need of flattening, converting into dataframe\n",
    "target_test=pd.DataFrame(data=Y_test,columns=[\"Target\"])\n",
    "#Concatening the features with their corresponding target\n",
    "testing_dataset= pd.concat([features_test,target_test],axis=1)\n",
    "\n",
    "# Training dataset is having 13 columns,\n",
    "# 12 columns conatins features (Volume,Open,High and Low) of 3 consecutive days \n",
    "# last columns is havig target values i.e next day opening price\n",
    "\n",
    "#storing the dataset in the train_data_RNN.csv file\n",
    "testing_dataset.to_csv(\"data/test_data_RNN.csv\",index=False)"
   ]
  },
  {
   "cell_type": "code",
   "execution_count": 19,
   "metadata": {
    "colab": {
     "base_uri": "https://localhost:8080/",
     "height": 204
    },
    "id": "Syu_kMARKDqy",
    "outputId": "ec9462e0-b579-4795-9bba-ad7433016e53"
   },
   "outputs": [
    {
     "data": {
      "text/html": [
       "<div>\n",
       "<style scoped>\n",
       "    .dataframe tbody tr th:only-of-type {\n",
       "        vertical-align: middle;\n",
       "    }\n",
       "\n",
       "    .dataframe tbody tr th {\n",
       "        vertical-align: top;\n",
       "    }\n",
       "\n",
       "    .dataframe thead th {\n",
       "        text-align: right;\n",
       "    }\n",
       "</style>\n",
       "<table border=\"1\" class=\"dataframe\">\n",
       "  <thead>\n",
       "    <tr style=\"text-align: right;\">\n",
       "      <th></th>\n",
       "      <th>0</th>\n",
       "      <th>1</th>\n",
       "      <th>2</th>\n",
       "      <th>3</th>\n",
       "      <th>4</th>\n",
       "      <th>5</th>\n",
       "      <th>6</th>\n",
       "      <th>7</th>\n",
       "      <th>8</th>\n",
       "      <th>9</th>\n",
       "      <th>10</th>\n",
       "      <th>11</th>\n",
       "      <th>Target</th>\n",
       "    </tr>\n",
       "  </thead>\n",
       "  <tbody>\n",
       "    <tr>\n",
       "      <th>0</th>\n",
       "      <td>25058280.0</td>\n",
       "      <td>101.91</td>\n",
       "      <td>102.91</td>\n",
       "      <td>101.78</td>\n",
       "      <td>27368840.0</td>\n",
       "      <td>102.24</td>\n",
       "      <td>102.28</td>\n",
       "      <td>101.50</td>\n",
       "      <td>33490630.0</td>\n",
       "      <td>101.41</td>\n",
       "      <td>102.24</td>\n",
       "      <td>100.15</td>\n",
       "      <td>101.31</td>\n",
       "    </tr>\n",
       "    <tr>\n",
       "      <th>1</th>\n",
       "      <td>32618140.0</td>\n",
       "      <td>107.27</td>\n",
       "      <td>108.85</td>\n",
       "      <td>107.20</td>\n",
       "      <td>32728460.0</td>\n",
       "      <td>107.40</td>\n",
       "      <td>107.72</td>\n",
       "      <td>106.45</td>\n",
       "      <td>47507230.0</td>\n",
       "      <td>107.28</td>\n",
       "      <td>107.37</td>\n",
       "      <td>105.57</td>\n",
       "      <td>108.91</td>\n",
       "    </tr>\n",
       "    <tr>\n",
       "      <th>2</th>\n",
       "      <td>32042290.0</td>\n",
       "      <td>95.94</td>\n",
       "      <td>96.29</td>\n",
       "      <td>95.25</td>\n",
       "      <td>29124140.0</td>\n",
       "      <td>96.25</td>\n",
       "      <td>96.89</td>\n",
       "      <td>95.35</td>\n",
       "      <td>35407050.0</td>\n",
       "      <td>94.94</td>\n",
       "      <td>96.35</td>\n",
       "      <td>94.68</td>\n",
       "      <td>96.00</td>\n",
       "    </tr>\n",
       "    <tr>\n",
       "      <th>3</th>\n",
       "      <td>29707270.0</td>\n",
       "      <td>113.06</td>\n",
       "      <td>114.31</td>\n",
       "      <td>112.63</td>\n",
       "      <td>21634520.0</td>\n",
       "      <td>112.71</td>\n",
       "      <td>113.05</td>\n",
       "      <td>112.28</td>\n",
       "      <td>36340670.0</td>\n",
       "      <td>112.46</td>\n",
       "      <td>113.37</td>\n",
       "      <td>111.80</td>\n",
       "      <td>113.16</td>\n",
       "    </tr>\n",
       "    <tr>\n",
       "      <th>4</th>\n",
       "      <td>84188210.0</td>\n",
       "      <td>228.08</td>\n",
       "      <td>228.50</td>\n",
       "      <td>212.61</td>\n",
       "      <td>100423300.0</td>\n",
       "      <td>247.18</td>\n",
       "      <td>251.83</td>\n",
       "      <td>228.00</td>\n",
       "      <td>67964260.0</td>\n",
       "      <td>247.39</td>\n",
       "      <td>252.84</td>\n",
       "      <td>242.61</td>\n",
       "      <td>239.77</td>\n",
       "    </tr>\n",
       "  </tbody>\n",
       "</table>\n",
       "</div>"
      ],
      "text/plain": [
       "            0       1       2       3            4       5       6       7  \\\n",
       "0  25058280.0  101.91  102.91  101.78   27368840.0  102.24  102.28  101.50   \n",
       "1  32618140.0  107.27  108.85  107.20   32728460.0  107.40  107.72  106.45   \n",
       "2  32042290.0   95.94   96.29   95.25   29124140.0   96.25   96.89   95.35   \n",
       "3  29707270.0  113.06  114.31  112.63   21634520.0  112.71  113.05  112.28   \n",
       "4  84188210.0  228.08  228.50  212.61  100423300.0  247.18  251.83  228.00   \n",
       "\n",
       "            8       9      10      11  Target  \n",
       "0  33490630.0  101.41  102.24  100.15  101.31  \n",
       "1  47507230.0  107.28  107.37  105.57  108.91  \n",
       "2  35407050.0   94.94   96.35   94.68   96.00  \n",
       "3  36340670.0  112.46  113.37  111.80  113.16  \n",
       "4  67964260.0  247.39  252.84  242.61  239.77  "
      ]
     },
     "execution_count": 19,
     "metadata": {},
     "output_type": "execute_result"
    }
   ],
   "source": [
    "testing_pandas=pd.read_csv(\"data/test_data_RNN.csv\")\n",
    "testing_pandas.head(5)"
   ]
  },
  {
   "cell_type": "markdown",
   "metadata": {
    "id": "EInbvT-wGQTt"
   },
   "source": [
    "# Builiding the  Model "
   ]
  },
  {
   "cell_type": "code",
   "execution_count": 20,
   "metadata": {
    "id": "7XlXmpVCGgfx"
   },
   "outputs": [],
   "source": [
    "#Loading the dataset\n",
    "training_dataset =pd.read_csv(\"data/train_data_RNN.csv\")\n"
   ]
  },
  {
   "cell_type": "code",
   "execution_count": 21,
   "metadata": {
    "id": "76WjojMjHl3q"
   },
   "outputs": [],
   "source": [
    "# Pre-processing the training data, scaling the values between 0 and 1. \n",
    "# Min-Max Scaler is used to normalize the dataset, specially the column volume whose values are high. \n",
    "sc = MinMaxScaler(feature_range = (0, 1))\n",
    "scaled_trainingDataset = sc.fit_transform(training_dataset)"
   ]
  },
  {
   "cell_type": "code",
   "execution_count": 22,
   "metadata": {
    "colab": {
     "base_uri": "https://localhost:8080/"
    },
    "id": "robH-MJULDfP",
    "outputId": "1f32be1c-f34c-44eb-afb8-ab2fd489cd18"
   },
   "outputs": [
    {
     "data": {
      "text/plain": [
       "(879, 13)"
      ]
     },
     "execution_count": 22,
     "metadata": {},
     "output_type": "execute_result"
    }
   ],
   "source": [
    "scaled_trainingDataset.shape"
   ]
  },
  {
   "cell_type": "code",
   "execution_count": 23,
   "metadata": {
    "colab": {
     "base_uri": "https://localhost:8080/"
    },
    "id": "IRppxDILIY5F",
    "outputId": "589bcfae-73fa-4e9e-b982-6295e223022d"
   },
   "outputs": [
    {
     "name": "stdout",
     "output_type": "stream",
     "text": [
      "(879, 3, 4)\n",
      "(879, 1)\n"
     ]
    }
   ],
   "source": [
    "# Separating the features and the target values\n",
    "X_train_data =scaled_trainingDataset[:,:12]\n",
    "Y_train_data =scaled_trainingDataset[:,12]\n",
    "\n",
    "# Reshaping the data \n",
    "X_train_data = X_train_data.reshape(-1,3,4)\n",
    "Y_train_data = Y_train_data.reshape(-1,1)\n",
    "print(X_train_data.shape)\n",
    "print(Y_train_data.shape)"
   ]
  },
  {
   "cell_type": "code",
   "execution_count": 26,
   "metadata": {
    "id": "VZ4tWBPKUIGZ"
   },
   "outputs": [],
   "source": [
    "# Initialising the RNN\n",
    "regressor = Sequential()\n",
    "\n",
    "# Adding the first LSTM layer\n",
    "regressor.add(LSTM(units = 60, return_sequences =True, input_shape = (X_train_data.shape[1], 4)))\n",
    "\n",
    "# Adding the second LSTM layer \n",
    "regressor.add(LSTM(units = 80))\n",
    "\n",
    "# Adding the output layer\n",
    "regressor.add(Dense(units = 1))\n",
    "\n",
    "# Compiling the mode using adam optimizer and mean_squared_error for calculating loss\n",
    "regressor.compile(optimizer = 'adam', loss = 'mean_squared_error')"
   ]
  },
  {
   "cell_type": "code",
   "execution_count": 27,
   "metadata": {
    "colab": {
     "base_uri": "https://localhost:8080/"
    },
    "id": "KEos1ldXM61b",
    "outputId": "343b83ca-efda-444c-ba9e-df9f77b1b85d"
   },
   "outputs": [
    {
     "name": "stdout",
     "output_type": "stream",
     "text": [
      "Epoch 1/50\n",
      "28/28 [==============================] - 8s 11ms/step - loss: 0.0673\n",
      "Epoch 2/50\n",
      "28/28 [==============================] - 0s 10ms/step - loss: 0.0039\n",
      "Epoch 3/50\n",
      "28/28 [==============================] - 0s 10ms/step - loss: 7.1260e-04\n",
      "Epoch 4/50\n",
      "28/28 [==============================] - 0s 10ms/step - loss: 5.6455e-04\n",
      "Epoch 5/50\n",
      "28/28 [==============================] - 0s 10ms/step - loss: 4.3609e-04\n",
      "Epoch 6/50\n",
      "28/28 [==============================] - 0s 10ms/step - loss: 3.2686e-04\n",
      "Epoch 7/50\n",
      "28/28 [==============================] - 0s 9ms/step - loss: 3.3573e-04\n",
      "Epoch 8/50\n",
      "28/28 [==============================] - 0s 10ms/step - loss: 2.6567e-04\n",
      "Epoch 9/50\n",
      "28/28 [==============================] - 0s 10ms/step - loss: 2.7105e-04\n",
      "Epoch 10/50\n",
      "28/28 [==============================] - 0s 10ms/step - loss: 2.6287e-04\n",
      "Epoch 11/50\n",
      "28/28 [==============================] - 0s 10ms/step - loss: 2.7197e-04\n",
      "Epoch 12/50\n",
      "28/28 [==============================] - 0s 10ms/step - loss: 3.3002e-04\n",
      "Epoch 13/50\n",
      "28/28 [==============================] - 0s 10ms/step - loss: 3.0446e-04\n",
      "Epoch 14/50\n",
      "28/28 [==============================] - 0s 10ms/step - loss: 2.4856e-04\n",
      "Epoch 15/50\n",
      "28/28 [==============================] - 0s 10ms/step - loss: 2.1639e-04\n",
      "Epoch 16/50\n",
      "28/28 [==============================] - 0s 10ms/step - loss: 2.6613e-04\n",
      "Epoch 17/50\n",
      "28/28 [==============================] - 0s 10ms/step - loss: 2.6762e-04\n",
      "Epoch 18/50\n",
      "28/28 [==============================] - 0s 10ms/step - loss: 2.4635e-04\n",
      "Epoch 19/50\n",
      "28/28 [==============================] - 0s 9ms/step - loss: 2.7615e-04\n",
      "Epoch 20/50\n",
      "28/28 [==============================] - 0s 9ms/step - loss: 2.7028e-04\n",
      "Epoch 21/50\n",
      "28/28 [==============================] - 0s 10ms/step - loss: 2.9945e-04\n",
      "Epoch 22/50\n",
      "28/28 [==============================] - 0s 8ms/step - loss: 3.0370e-04\n",
      "Epoch 23/50\n",
      "28/28 [==============================] - 0s 9ms/step - loss: 2.4328e-04\n",
      "Epoch 24/50\n",
      "28/28 [==============================] - 0s 9ms/step - loss: 2.7079e-04\n",
      "Epoch 25/50\n",
      "28/28 [==============================] - 0s 10ms/step - loss: 2.5129e-04\n",
      "Epoch 26/50\n",
      "28/28 [==============================] - 0s 8ms/step - loss: 2.6787e-04\n",
      "Epoch 27/50\n",
      "28/28 [==============================] - 0s 8ms/step - loss: 2.3141e-04\n",
      "Epoch 28/50\n",
      "28/28 [==============================] - 0s 9ms/step - loss: 2.4534e-04\n",
      "Epoch 29/50\n",
      "28/28 [==============================] - 0s 9ms/step - loss: 3.0228e-04\n",
      "Epoch 30/50\n",
      "28/28 [==============================] - 0s 9ms/step - loss: 3.2903e-04\n",
      "Epoch 31/50\n",
      "28/28 [==============================] - 0s 9ms/step - loss: 2.3233e-04\n",
      "Epoch 32/50\n",
      "28/28 [==============================] - 0s 10ms/step - loss: 2.5887e-04\n",
      "Epoch 33/50\n",
      "28/28 [==============================] - 0s 9ms/step - loss: 2.6737e-04\n",
      "Epoch 34/50\n",
      "28/28 [==============================] - 0s 9ms/step - loss: 2.2854e-04\n",
      "Epoch 35/50\n",
      "28/28 [==============================] - 0s 10ms/step - loss: 2.3547e-04\n",
      "Epoch 36/50\n",
      "28/28 [==============================] - 0s 9ms/step - loss: 2.6730e-04\n",
      "Epoch 37/50\n",
      "28/28 [==============================] - 0s 10ms/step - loss: 2.6544e-04\n",
      "Epoch 38/50\n",
      "28/28 [==============================] - 0s 9ms/step - loss: 2.5906e-04\n",
      "Epoch 39/50\n",
      "28/28 [==============================] - 0s 10ms/step - loss: 2.5382e-04\n",
      "Epoch 40/50\n",
      "28/28 [==============================] - 0s 10ms/step - loss: 2.4552e-04\n",
      "Epoch 41/50\n",
      "28/28 [==============================] - 0s 10ms/step - loss: 2.7243e-04\n",
      "Epoch 42/50\n",
      "28/28 [==============================] - 0s 10ms/step - loss: 2.1991e-04\n",
      "Epoch 43/50\n",
      "28/28 [==============================] - 0s 10ms/step - loss: 2.7833e-04\n",
      "Epoch 44/50\n",
      "28/28 [==============================] - 0s 9ms/step - loss: 2.3111e-04\n",
      "Epoch 45/50\n",
      "28/28 [==============================] - 0s 9ms/step - loss: 3.1776e-04\n",
      "Epoch 46/50\n",
      "28/28 [==============================] - 0s 9ms/step - loss: 2.5734e-04\n",
      "Epoch 47/50\n",
      "28/28 [==============================] - 0s 9ms/step - loss: 2.7341e-04\n",
      "Epoch 48/50\n",
      "28/28 [==============================] - 0s 8ms/step - loss: 2.5240e-04\n",
      "Epoch 49/50\n",
      "28/28 [==============================] - 0s 8ms/step - loss: 2.5781e-04\n",
      "Epoch 50/50\n",
      "28/28 [==============================] - 0s 9ms/step - loss: 2.7100e-04\n"
     ]
    },
    {
     "data": {
      "text/plain": [
       "<tensorflow.python.keras.callbacks.History at 0x1f054b01730>"
      ]
     },
     "execution_count": 27,
     "metadata": {},
     "output_type": "execute_result"
    }
   ],
   "source": [
    "regressor.fit(X_train_data, Y_train_data, epochs = 50, batch_size=32)"
   ]
  },
  {
   "cell_type": "code",
   "execution_count": 28,
   "metadata": {
    "colab": {
     "base_uri": "https://localhost:8080/"
    },
    "id": "i0KHFKf-M-by",
    "outputId": "6d869519-a1d3-4af6-be3e-8e98d45a5602"
   },
   "outputs": [
    {
     "name": "stderr",
     "output_type": "stream",
     "text": [
      "WARNING:absl:Found untraced functions such as lstm_cell_2_layer_call_and_return_conditional_losses, lstm_cell_2_layer_call_fn, lstm_cell_3_layer_call_and_return_conditional_losses, lstm_cell_3_layer_call_fn, lstm_cell_2_layer_call_fn while saving (showing 5 of 10). These functions will not be directly callable after loading.\n",
      "WARNING:absl:Found untraced functions such as lstm_cell_2_layer_call_and_return_conditional_losses, lstm_cell_2_layer_call_fn, lstm_cell_3_layer_call_and_return_conditional_losses, lstm_cell_3_layer_call_fn, lstm_cell_2_layer_call_fn while saving (showing 5 of 10). These functions will not be directly callable after loading.\n"
     ]
    },
    {
     "name": "stdout",
     "output_type": "stream",
     "text": [
      "INFO:tensorflow:Assets written to: models/Group_27_RNN_model\\assets\n"
     ]
    },
    {
     "name": "stderr",
     "output_type": "stream",
     "text": [
      "INFO:tensorflow:Assets written to: models/Group_27_RNN_model\\assets\n"
     ]
    }
   ],
   "source": [
    "# Saving the trained model\n",
    "regressor.save(\"models/Group_27_RNN_model\")"
   ]
  },
  {
   "cell_type": "code",
   "execution_count": 29,
   "metadata": {
    "colab": {
     "base_uri": "https://localhost:8080/"
    },
    "id": "Q9cWDPoGVbXR",
    "outputId": "3def352f-5fc7-4610-aae6-bd6522b5e0de"
   },
   "outputs": [
    {
     "name": "stdout",
     "output_type": "stream",
     "text": [
      "The loss on test data is  0.0004234322892940294\n"
     ]
    }
   ],
   "source": [
    "#Loading the trained model\n",
    "regressor_Savedmodel=load_model(\"models/Group_27_RNN_model\")\n",
    "\n",
    "# Loading the testing data\n",
    "test= pd.read_csv(\"data/test_data_RNN.csv\")\n",
    "\n",
    "# Normalization of the testing data\n",
    "scaled_testDataset = sc.fit_transform(test)\n",
    "\n",
    "X_test_data =scaled_testDataset[:,:12]\n",
    "Y_test_data =scaled_testDataset[:,12]\n",
    "\n",
    "# Reshaping the data \n",
    "X_test_data = X_test_data.reshape(-1,3,4)\n",
    "Y_test_data = Y_test_data.reshape(-1,1)\n",
    "\n",
    "#Run prediction on the test data \n",
    "predicted_stockPrice = regressor_Savedmodel.predict(X_test_data)\n",
    "loss= mean_squared_error(Y_test_data,predicted_stockPrice)\n",
    "print(\"The loss on test data is \",loss)"
   ]
  },
  {
   "cell_type": "markdown",
   "metadata": {
    "id": "rXbsQ91q3YVQ"
   },
   "source": [
    "# Visualizing the results"
   ]
  },
  {
   "cell_type": "code",
   "execution_count": 30,
   "metadata": {
    "colab": {
     "base_uri": "https://localhost:8080/",
     "height": 295
    },
    "id": "FlssRktFYQxn",
    "outputId": "89c5e289-58f2-43f8-e2ac-36d7e06d27ce"
   },
   "outputs": [
    {
     "data": {
      "image/png": "[encoded data removed]",
      "text/plain": [
       "<Figure size 864x288 with 1 Axes>"
      ]
     },
     "metadata": {
      "needs_background": "light"
     },
     "output_type": "display_data"
    }
   ],
   "source": [
    "# Plotting the real stock price values\n",
    "plt.figure(figsize=(12,4))\n",
    "plt.plot(Y_test_data, color = 'red', label = 'Real Stock Price')\n",
    "plt.title('Stock Price Prediction')\n",
    "plt.xlabel('Time')\n",
    "plt.ylabel('Stock Price')\n",
    "plt.legend()\n",
    "plt.show()"
   ]
  },
  {
   "cell_type": "code",
   "execution_count": 31,
   "metadata": {
    "colab": {
     "base_uri": "https://localhost:8080/",
     "height": 295
    },
    "id": "0aD3jt8AW32f",
    "outputId": "f31bc0a5-51ab-4cef-9526-bd93d32aad0a"
   },
   "outputs": [
    {
     "data": {
      "image/png": "[encoded data removed]",
      "text/plain": [
       "<Figure size 432x288 with 1 Axes>"
      ]
     },
     "metadata": {
      "needs_background": "light"
     },
     "output_type": "display_data"
    }
   ],
   "source": [
    "# Visulaizing the results , plotting the predicted and real stock price\n",
    "plt.plot(Y_test_data, color = 'red', label = 'Real Stock Price')\n",
    "plt.plot(predicted_stockPrice, color = 'blue', label = 'Predicted Stock Price')\n",
    "plt.title('Stock Price Prediction')\n",
    "plt.xlabel('Time')\n",
    "plt.ylabel('Stock Price')\n",
    "plt.legend()\n",
    "plt.show()"
   ]
  },
  {
   "cell_type": "code",
   "execution_count": 32,
   "metadata": {
    "colab": {
     "base_uri": "https://localhost:8080/",
     "height": 295
    },
    "id": "cw_wRFNTsaui",
    "outputId": "098cde09-7cd9-420a-e0d6-7abffc573dc4"
   },
   "outputs": [
    {
     "data": {
      "image/png": "[encoded data removed]",
      "text/plain": [
       "<Figure size 864x288 with 1 Axes>"
      ]
     },
     "metadata": {
      "needs_background": "light"
     },
     "output_type": "display_data"
    }
   ],
   "source": [
    "# Plotting the predicted stock prices\n",
    "plt.figure(figsize=(12,4))\n",
    "plt.plot(predicted_stockPrice, color = 'blue', label = 'Predicted Stock Price')\n",
    "plt.title('Stock Price Prediction')\n",
    "plt.xlabel('Time')\n",
    "plt.ylabel('Stock Price')\n",
    "plt.legend()\n",
    "plt.show()"
   ]
  },
  {
   "cell_type": "markdown",
   "metadata": {
    "id": "pYzUwrqY3399"
   },
   "source": [
    "### Conclusion:\n"
   ]
  },
  {
   "cell_type": "markdown",
   "metadata": {
    "id": "kGWf7i3W3-1n"
   },
   "source": [
    "\n",
    "\n",
    "*    First, the given dataset for the stock price prediction was examined, the total number of rows, columns was analysed using pandas. It can be observed that dataset is containing stock prices of 5 years i.e. 07/09/15 to 07/08/20\twith prices of 2020 year at the top. As mentioned, 4 features is considered using 3 consecutive days timestamp. Then the data was flattened and splitted randomly into 70% training and 30% testing data such that the 3 days features are considered as one row/data entry in the csv file. The training and testing data is stored in train_data_RNN.csv and test_data_RNN.csv files respectively.\n",
    "\n",
    "\n",
    "\n",
    "*   MinMax scaler is used to normalize the data between 0 to 1 range.\n",
    "\n",
    "*   To design the model for the stock prediction, networks with different layers were tried. Different combination of batch size, number of units in each layer was also tried.\n",
    " \n",
    "\n",
    "*   The LSTM model is used for stock price prediction by using the given time series data set. The model is having 3 layer architecture with first layer having 60 units as an input layer, next layer has 80 units and the final output layer is having only 1 unit. The compiled using adam optimizer and mean square method is used to calculate the loss. The model is trained with 50 epochs and default 32 batch size is considered.\n",
    "\n",
    "\n",
    "\n",
    "*   The final loss value after completing the 50 epochs is calculated using mean square error  . Intially the loss was high but then it fluctuates around 2.5. The final loss values indicates that the model is not overfitted.\n",
    "*   The saved trained model is used to predict the stock prices. The individual plots for predicted stock prices and real prices is plotted. The final plot considering both real and predicted stock prices is showing that the model is well trained as indicated by the overlapping values of the predicted and real stock prices in the final plot.\n",
    "\n",
    "\n",
    "\n",
    "*   Inreasing the number of days for the features will result in better understanding of the training data. Hence, the model will be trained better to predict the stock prices. For the high number of days timestamp, more dataset(entries) value should be considered for training the model.\n",
    "\n",
    "\n",
    "\n",
    "\n",
    "\n"
   ]
  },
  {
   "cell_type": "markdown",
   "metadata": {
    "id": "bE42RY8IgUgU"
   },
   "source": [
    "### References:\n",
    "\n",
    "\n",
    "\n",
    "*   https://pandas.pydata.org/pandas-docs/stable/reference/api/pandas.DataFrame.to_numpy.html\n",
    "\n",
    "\n",
    "\n",
    "\n",
    "*   https://numpy.org/doc/stable/reference/generated/numpy.ndarray.flatten.html\n",
    "\n",
    "\n",
    "*   https://www.tensorflow.org/guide/keras/save_and_serialize\n",
    "\n",
    "\n",
    "*   https://pandas.pydata.org/docs/reference/api/pandas.DataFrame.to_csv.html\n",
    "\n",
    "\n",
    "*   https://scikit-learn.org/stable/modules/generated/sklearn.metrics.mean_squared_error.html\n",
    "\n",
    "\n",
    "*   https://www.tensorflow.org/guide/keras/rnn\n",
    "\n",
    "\n",
    "*  https://pandas.pydata.org/pandas-docs/stable/user_guide/merging.html\n",
    "\n",
    "\n",
    "\n",
    "\n",
    "\n",
    "\n"
   ]
  },
  {
   "cell_type": "code",
   "execution_count": null,
   "metadata": {},
   "outputs": [],
   "source": []
  }
 ],
 "metadata": {
  "colab": {
   "collapsed_sections": [],
   "name": "ECE657_Assignment3_Q2.ipynb",
   "provenance": []
  },
  "kernelspec": {
   "display_name": "Python 3",
   "language": "python",
   "name": "python3"
  },
  "language_info": {
   "codemirror_mode": {
    "name": "ipython",
    "version": 3
   },
   "file_extension": ".py",
   "mimetype": "text/x-python",
   "name": "python",
   "nbconvert_exporter": "python",
   "pygments_lexer": "ipython3",
   "version": "3.8.5"
  }
 },
 "nbformat": 4,
 "nbformat_minor": 1
}
